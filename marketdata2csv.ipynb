{
 "cells": [
  {
   "cell_type": "markdown",
   "metadata": {},
   "source": [
    "# Read market data from Yahoo Finance\n",
    "\n",
    "Taken from **Python for Finance:** *Analyze Big Financial Data* Yves Hilpisch pp.18-19\n",
    "\n",
    "Revised a bit by Jim Northey (jnorthey@mtu.edu)"
   ]
  },
  {
   "cell_type": "markdown",
   "metadata": {},
   "source": [
    "Change log:\n",
    "[pandas data reader](https://github.com/plotly/documentation/issues/657) Explains the separation of the datareader to a separate module and how to change.\n",
    "\n",
    "In terminal mode run: ```pip install pandas-datareader```\n"
   ]
  },
  {
   "cell_type": "code",
   "execution_count": 1,
   "metadata": {},
   "outputs": [
    {
     "name": "stdout",
     "output_type": "stream",
     "text": [
      "../data/T_marketdata_asof_2019-12-09.csv\n",
      "                 High        Low       Open      Close      Volume  Adj Close\n",
      "Date                                                                         \n",
      "2018-12-10  30.090000  29.170000  30.080000  29.910000  41052100.0  28.139664\n",
      "2018-12-11  30.670000  29.590000  30.440001  29.700001  49563300.0  27.942093\n",
      "2018-12-12  30.290001  29.930000  30.110001  30.160000  40903700.0  28.374868\n",
      "2018-12-13  30.190001  29.549999  30.090000  29.910000  49097800.0  28.139664\n",
      "2018-12-14  30.400000  29.700001  29.830000  30.219999  42741400.0  28.431314\n",
      "...               ...        ...        ...        ...         ...        ...\n",
      "2019-12-03  37.549999  36.910000  37.200001  37.549999  24870000.0  37.549999\n",
      "2019-12-04  38.360001  37.509998  37.590000  38.099998  38236900.0  38.099998\n",
      "2019-12-05  38.360001  38.009998  38.119999  38.189999  21764300.0  38.189999\n",
      "2019-12-06  38.580002  38.139999  38.290001  38.200001  22606100.0  38.200001\n",
      "2019-12-09  38.430000  38.090000  38.119999  38.310001   2721057.0  38.310001\n",
      "\n",
      "[252 rows x 6 columns]\n"
     ]
    }
   ],
   "source": [
    "import numpy as np\n",
    "import pandas as pd\n",
    "import pandas_datareader.data as web\n",
    "import datetime\n",
    "\n",
    "ticker='T'\n",
    "end_date = datetime.date.today()\n",
    "start_date=end_date.replace(year=end_date.year-1)\n",
    "\n",
    "historical_prices = web.DataReader(ticker, data_source='yahoo',start=start_date,end=end_date)\n",
    "\n",
    "# save the market data to a csv file\n",
    "filename='../data/'+ticker+'_marketdata_asof_'+end_date.strftime('%Y-%m-%d')+'.csv'\n",
    "print(filename)\n",
    "export_csv = historical_prices.to_csv (filename, index = None, header=True) #Don't forget to add '.csv' at the end of the path\n",
    "\n",
    "# Shows us some data so we have an idea what we retrieved from Yahoo! Yahoo. OK BOOMER\n",
    "print(historical_prices)\n"
   ]
  },
  {
   "cell_type": "markdown",
   "metadata": {},
   "source": [
    "[Stack Overflow help on updates to pandas library](https://stackoverflow.com/questions/40742364/pandas-rolling-standard-deviation?rq=1)\n",
    "Need to modify the code to reflect changes in the pandas library"
   ]
  }
 ],
 "metadata": {
  "kernelspec": {
   "display_name": "Python 3",
   "language": "python",
   "name": "python3"
  },
  "language_info": {
   "codemirror_mode": {
    "name": "ipython",
    "version": 3
   },
   "file_extension": ".py",
   "mimetype": "text/x-python",
   "name": "python",
   "nbconvert_exporter": "python",
   "pygments_lexer": "ipython3",
   "version": "3.6.8"
  }
 },
 "nbformat": 4,
 "nbformat_minor": 2
}
