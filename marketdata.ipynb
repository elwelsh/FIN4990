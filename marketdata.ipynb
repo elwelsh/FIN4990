{
 "cells": [
  {
   "cell_type": "markdown",
   "metadata": {},
   "source": [
    "# Read market data from Yahoo Finance\n",
    "\n",
    "Taken from **Python for Finance:** *Analyze Big Financial Data* Yves Hilpisch pp.18-19\n",
    "\n",
    "Revised a bit by Jim Northey (jnorthey@mtu.edu)"
   ]
  },
  {
   "cell_type": "markdown",
   "metadata": {},
   "source": [
    "Change log:\n",
    "[pandas data reader](https://github.com/plotly/documentation/issues/657) Explains the separation of the datareader to a separate module and how to change.\n",
    "\n",
    "In terminal mode run: ```pip install pandas-datareader```\n"
   ]
  },
  {
   "cell_type": "code",
   "execution_count": 2,
   "metadata": {},
   "outputs": [
    {
     "name": "stdout",
     "output_type": "stream",
     "text": [
      "                 High        Low       Open      Close      Volume  Adj Close\n",
      "Date                                                                         \n",
      "2018-12-04  38.299999  36.500000  38.220001  36.520000  14234700.0  35.053616\n",
      "2018-12-06  35.750000  34.910000  35.740002  35.700001  14533700.0  34.626842\n",
      "2018-12-07  35.930000  34.549999  35.439999  34.689999   9236700.0  33.647202\n",
      "2018-12-10  34.779999  33.459999  34.549999  34.419998  12320000.0  33.385319\n",
      "2018-12-11  35.750000  34.650002  35.549999  34.689999  12531800.0  33.647202\n",
      "...               ...        ...        ...        ...         ...        ...\n",
      "2019-11-26  35.930000  35.509998  35.700001  35.910000   8245900.0  35.910000\n",
      "2019-11-27  36.270000  35.849998  36.009998  36.139999   5838700.0  36.139999\n",
      "2019-11-29  36.130001  35.849998  36.049999  36.000000   3927000.0  36.000000\n",
      "2019-12-02  36.360001  35.840000  36.009998  35.880001   6782000.0  35.880001\n",
      "2019-12-03  35.619999  34.959999  35.470001  35.529999   8211000.0  35.529999\n",
      "\n",
      "[251 rows x 6 columns]\n"
     ]
    }
   ],
   "source": [
    "import numpy as np\n",
    "import pandas as pd\n",
    "import pandas_datareader.data as web\n",
    "import datetime\n",
    "\n",
    "ticker='GM'\n",
    "end_date = datetime.date.today()\n",
    "start_date=end_date.replace(year=end_date.year-1)\n",
    "\n",
    "historical_prices = web.DataReader(ticker, data_source='yahoo',start=start_date,end=end_date)\n",
    "print(historical_prices)\n"
   ]
  },
  {
   "cell_type": "markdown",
   "metadata": {},
   "source": [
    "[Stack Overflow help on updates to pandas library](https://stackoverflow.com/questions/40742364/pandas-rolling-standard-deviation?rq=1)\n",
    "Need to modify the code to reflect changes in the pandas library"
   ]
  }
 ],
 "metadata": {
  "kernelspec": {
   "display_name": "Python 3",
   "language": "python",
   "name": "python3"
  },
  "language_info": {
   "codemirror_mode": {
    "name": "ipython",
    "version": 3
   },
   "file_extension": ".py",
   "mimetype": "text/x-python",
   "name": "python",
   "nbconvert_exporter": "python",
   "pygments_lexer": "ipython3",
   "version": "3.6.8"
  }
 },
 "nbformat": 4,
 "nbformat_minor": 2
}
